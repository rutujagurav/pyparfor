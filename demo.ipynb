{
 "cells": [
  {
   "cell_type": "markdown",
   "metadata": {},
   "source": [
    "# Embarassingly Parallel For Loops in Python: Joblib Demo"
   ]
  },
  {
   "cell_type": "code",
   "execution_count": 1,
   "metadata": {},
   "outputs": [],
   "source": [
    "%load_ext autoreload\n",
    "%autoreload 2"
   ]
  },
  {
   "cell_type": "code",
   "execution_count": 2,
   "metadata": {},
   "outputs": [],
   "source": [
    "import datetime, itertools, shutil, os, time, math\n",
    "import numpy as np\n",
    "from joblib import Parallel, delayed\n",
    "from joblib.externals.loky import get_reusable_executor\n",
    "\n",
    "from pyparfor import pyparfor"
   ]
  },
  {
   "cell_type": "code",
   "execution_count": 3,
   "metadata": {},
   "outputs": [],
   "source": [
    "N, M = 1000, 100\n",
    "# Ns = [1e-5, 1e-4, 1e-3, 1e-2]\n",
    "# Ms = list(reversed(Ns))\n",
    "# N, M = int(Ns[0]), int(Ms[0])\n",
    "\n",
    "## Parallelizing the outer for loop\n",
    "def do_work(i, out_memmap:np.memmap = None):\n",
    "    out = []\n",
    "    for j in range(M):\n",
    "        temp = i+j\n",
    "        temp = temp**2\n",
    "        temp = math.sqrt(temp)\n",
    "        \n",
    "        if out_memmap is None: out.append(temp)\n",
    "        else: out_memmap[i,j] = temp\n",
    "    return out\n",
    "\n",
    "## Parallelizing both inner and outer for loop\n",
    "def do_less_work(idxes, out_memmap:np.memmap = None):\n",
    "    i,j = idxes\n",
    "    out = []\n",
    "    \n",
    "    temp = i+j\n",
    "    temp = temp**2\n",
    "    temp = math.sqrt(temp)\n",
    "    \n",
    "    if out_memmap is None: out.append(temp)\n",
    "    else: out_memmap[i,j] = temp\n",
    "    return out"
   ]
  },
  {
   "cell_type": "markdown",
   "metadata": {},
   "source": [
    "### Baseline: Naive Nested For Loops"
   ]
  },
  {
   "cell_type": "code",
   "execution_count": 4,
   "metadata": {},
   "outputs": [
    {
     "name": "stdout",
     "output_type": "stream",
     "text": [
      "[SEQUENTIAL] Time elapsed:  0:00:00.047837\n"
     ]
    }
   ],
   "source": [
    "out_seq = np.zeros((N,M))\n",
    "tic = datetime.datetime.now()\n",
    "for i in range(N):\n",
    "    for j in range(M):\n",
    "        temp = i+j\n",
    "        temp = temp**2\n",
    "        temp = math.sqrt(temp)\n",
    "        out_seq[i,j] = temp\n",
    "        # time.sleep(0.005)\n",
    "\n",
    "print(\"[SEQUENTIAL] Time elapsed: \", datetime.datetime.now() - tic)"
   ]
  },
  {
   "cell_type": "markdown",
   "metadata": {},
   "source": [
    "### Single ParFor Loop"
   ]
  },
  {
   "cell_type": "code",
   "execution_count": 5,
   "metadata": {},
   "outputs": [
    {
     "name": "stdout",
     "output_type": "stream",
     "text": [
      "Storing memmap in:  /data/home/rgura001/pyparfor/memmap\n"
     ]
    },
    {
     "name": "stdout",
     "output_type": "stream",
     "text": [
      "[PARALLEL MEMMAP: SINGLE FOR] Time elapsed:  0:00:00.836158\n",
      "[PARALLEL: SINGLE FOR] Time elapsed:  0:00:00.822292\n"
     ]
    }
   ],
   "source": [
    "tic = datetime.datetime.now()\n",
    "out_memmap = pyparfor(do_work, range(N), n_jobs=32, use_memmap=True, out_shape=(N,M))\n",
    "print(\"[PARALLEL MEMMAP: SINGLE FOR] Time elapsed: \", datetime.datetime.now() - tic)\n",
    "\n",
    "tic = datetime.datetime.now()\n",
    "out = pyparfor(do_work, range(N), n_jobs=32, use_memmap=False, out_shape=(N,M))\n",
    "print(\"[PARALLEL: SINGLE FOR] Time elapsed: \", datetime.datetime.now() - tic)\n"
   ]
  },
  {
   "cell_type": "markdown",
   "metadata": {},
   "source": [
    "### Nested ParFor Loops"
   ]
  },
  {
   "cell_type": "code",
   "execution_count": 6,
   "metadata": {},
   "outputs": [
    {
     "name": "stdout",
     "output_type": "stream",
     "text": [
      "Storing memmap in:  /data/home/rgura001/pyparfor/memmap\n",
      "[PARALLEL MEMMAP: NESTED FOR] Time elapsed:  0:00:01.289786\n",
      "[PARALLEL: NESTED FOR] Time elapsed:  0:00:01.334628\n"
     ]
    }
   ],
   "source": [
    "tic = datetime.datetime.now()\n",
    "out_memmap = pyparfor(do_less_work, itertools.product(range(N), range(M)), n_jobs=32, use_memmap=True, out_shape=(N,M))\n",
    "print(\"[PARALLEL MEMMAP: NESTED FOR] Time elapsed: \", datetime.datetime.now() - tic)\n",
    "\n",
    "tic = datetime.datetime.now()\n",
    "out = pyparfor(do_less_work, itertools.product(range(N), range(M)), n_jobs=32, use_memmap=False, out_shape=(N,M))\n",
    "print(\"[PARALLEL: NESTED FOR] Time elapsed: \", datetime.datetime.now() - tic)\n"
   ]
  },
  {
   "cell_type": "markdown",
   "metadata": {},
   "source": [
    "### [WORK IN PROGRESS] Packaging Neatly"
   ]
  },
  {
   "cell_type": "code",
   "execution_count": 7,
   "metadata": {},
   "outputs": [],
   "source": [
    "# class PyParFor:\n",
    "#     def __init__(self, n_jobs=32, use_memmap=True, memmap_folder=None, out_shape=(None,None)):\n",
    "#         self.n_jobs = n_jobs\n",
    "#         self.use_memmap = use_memmap\n",
    "#         self.memmap_folder = memmap_folder\n",
    "#         self.out_shape = out_shape\n",
    "\n",
    "#     def __enter__(self):\n",
    "#         if self.use_memmap:\n",
    "#             if not self.memmap_folder:\n",
    "#                 self.memmap_folder = os.getcwd()+\"/memmap\"\n",
    "#             if not os.path.exists(self.memmap_folder):\n",
    "#                 os.makedirs(self.memmap_folder)\n",
    "#             print(\"Storing memmap at: \", self.memmap_folder)\n",
    "\n",
    "#     def __exit__(self, exc_type, exc_val, exc_tb):\n",
    "#         try:\n",
    "#             shutil.rmtree(self.memmap_folder)\n",
    "#         except:\n",
    "#             print('Could not clean-up automatically.')\n",
    "        \n",
    "#         get_reusable_executor().shutdown(wait=True)\n",
    "\n",
    "#     def __call__(self, func, iterable):\n",
    "#         if self.use_memmap:\n",
    "#             out_memmap = np.memmap(self.memmap_folder + \"/out_memmap\", dtype='float', mode='w+', shape=self.out_shape)\n",
    "#             Parallel(n_jobs=self.n_jobs, verbose=0)(delayed(func)(item, out_memmap) for item in iterable)\n",
    "#         else:\n",
    "#             out = Parallel(n_jobs=self.n_jobs, verbose=0)(delayed(func)(item) for item in iterable)\n",
    "#             out = np.array(out).reshape(self.out_shape)\n",
    "        \n",
    "#         if self.use_memmap:\n",
    "#             return out_memmap\n",
    "#         else:\n",
    "#             return out"
   ]
  },
  {
   "cell_type": "code",
   "execution_count": 8,
   "metadata": {},
   "outputs": [],
   "source": [
    "# import os, datetime\n",
    "\n",
    "# from numpy import memmap\n",
    "\n",
    "# N, M = 1000, 100\n",
    "\n",
    "# def do_work(i, out_memmap) -> np.ndarray:\n",
    "#     for j in range(M):\n",
    "#         temp = i+j\n",
    "#         temp = temp**2\n",
    "#         temp = math.sqrt(temp)\n",
    "#         out_memmap[i,j] = temp\n",
    "\n",
    "# with PyParFor(n_jobs=32, use_memmap=True, out_shape=(N,M)) as pyparfor:\n",
    "#     tic = datetime.datetime.now()\n",
    "#     out = pyparfor(do_work, range(N))\n",
    "#     print(\"[PARALLEL: SINGLE FOR] Time elapsed: \", datetime.datetime.now() - tic)"
   ]
  }
 ],
 "metadata": {
  "kernelspec": {
   "display_name": "mlenv",
   "language": "python",
   "name": "python3"
  },
  "language_info": {
   "codemirror_mode": {
    "name": "ipython",
    "version": 3
   },
   "file_extension": ".py",
   "mimetype": "text/x-python",
   "name": "python",
   "nbconvert_exporter": "python",
   "pygments_lexer": "ipython3",
   "version": "3.10.9"
  }
 },
 "nbformat": 4,
 "nbformat_minor": 2
}
