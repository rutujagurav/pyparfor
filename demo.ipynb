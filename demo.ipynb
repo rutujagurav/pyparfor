{
 "cells": [
  {
   "cell_type": "markdown",
   "metadata": {},
   "source": [
    "# Embarassingly Parallel For Loops in Python: Joblib Demo"
   ]
  },
  {
   "cell_type": "code",
   "execution_count": 1,
   "metadata": {},
   "outputs": [],
   "source": [
    "%load_ext autoreload\n",
    "%autoreload 2"
   ]
  },
  {
   "cell_type": "code",
   "execution_count": 2,
   "metadata": {},
   "outputs": [],
   "source": [
    "import datetime, itertools, shutil, os, time, math\n",
    "import numpy as np\n",
    "from joblib import Parallel, delayed\n",
    "from joblib.externals.loky import get_reusable_executor"
   ]
  },
  {
   "cell_type": "markdown",
   "metadata": {},
   "source": [
    "### Single For Loop"
   ]
  },
  {
   "cell_type": "code",
   "execution_count": 3,
   "metadata": {},
   "outputs": [
    {
     "name": "stdout",
     "output_type": "stream",
     "text": [
      "Storing memmap in:  /data/home/rgura001/pyparfor/memmap\n",
      "[PARALLEL MEMMAP: SINGLE FOR] Time elapsed:  0:00:03.234038\n",
      "[PARALLEL: SINGLE FOR] Time elapsed:  0:00:09.229952\n",
      "[SEQUENTIAL] Time elapsed:  0:00:07.633385\n"
     ]
    }
   ],
   "source": [
    "def do_work(i, out_memmap:np.memmap = None):\n",
    "    out = []\n",
    "    for j in range(M):\n",
    "        temp = i+j\n",
    "        temp = temp**2\n",
    "        temp = math.sqrt(temp)\n",
    "        \n",
    "        if out_memmap is None: out.append(temp)\n",
    "        else: out_memmap[i,j] = temp\n",
    "    return out\n",
    "\n",
    "def parfor(func, iterable, n_jobs=32, use_memmap=True, memmap_folder=None, out_shape=(None,None)):\n",
    "    if use_memmap:\n",
    "        if not memmap_folder:\n",
    "            memmap_folder = os.getcwd()+\"/memmap\"\n",
    "        if not os.path.exists(memmap_folder):\n",
    "            os.makedirs(memmap_folder)\n",
    "        out_memmap = np.memmap(memmap_folder+\"/curr_memmap\", dtype='float', mode='w+', shape=out_shape)\n",
    "        print(\"Storing memmap in: \", memmap_folder)\n",
    "\n",
    "        _ = Parallel(n_jobs=n_jobs, verbose=0)(delayed(func)(item, out_memmap) for item in iterable)\n",
    "\n",
    "        try:\n",
    "            shutil.rmtree(memmap_folder)\n",
    "        except:\n",
    "            print('Could not clean-up automatically.')\n",
    "\n",
    "        return out_memmap\n",
    "    else:\n",
    "        unstruct_out = Parallel(n_jobs=n_jobs, verbose=0)(delayed(func)(item) for item in iterable)\n",
    "        out = np.array(unstruct_out).reshape(out_shape)\n",
    "        return out\n",
    "\n",
    "N, M = 100000, 100\n",
    "tic = datetime.datetime.now()\n",
    "out_memmap = parfor(do_work, range(N), n_jobs=32, use_memmap=True, out_shape=(N,M))\n",
    "print(\"[PARALLEL MEMMAP: SINGLE FOR] Time elapsed: \", datetime.datetime.now() - tic)\n",
    "\n",
    "tic = datetime.datetime.now()\n",
    "out = parfor(do_work, range(N), n_jobs=32, use_memmap=False, out_shape=(N,M))\n",
    "print(\"[PARALLEL: SINGLE FOR] Time elapsed: \", datetime.datetime.now() - tic)\n",
    "\n",
    "out_seq = np.zeros((N,M))\n",
    "tic = datetime.datetime.now()\n",
    "for i in range(N):\n",
    "    for j in range(M):\n",
    "        temp = i+j\n",
    "        temp = temp**2\n",
    "        temp = math.sqrt(temp)\n",
    "        out_seq[i,j] = temp\n",
    "        # time.sleep(0.005)\n",
    "\n",
    "print(\"[SEQUENTIAL] Time elapsed: \", datetime.datetime.now() - tic)\n"
   ]
  },
  {
   "cell_type": "markdown",
   "metadata": {},
   "source": [
    "### [WORK IN PROGRESS] Nested Loops"
   ]
  },
  {
   "cell_type": "code",
   "execution_count": null,
   "metadata": {},
   "outputs": [],
   "source": [
    "# def do_work(i,j, res2):\n",
    "#     temp = i+j\n",
    "#     temp = temp**2\n",
    "#     res2[i,j] = temp\n",
    "#     # time.sleep(0.005)\n",
    "\n",
    "# memmap_folder = \"/home/rgura001/pyparfor/memmap\"\n",
    "# if not os.path.exists(memmap_folder): os.makedirs(memmap_folder)\n",
    "# res_nested_par_memmap = np.memmap(memmap_folder+\"/res_nested_par_memmap\", dtype='float', mode='w+', shape=(N,M))\n",
    "# tic = datetime.datetime.now()\n",
    "# out = Parallel(n_jobs=32, verbose=1)(delayed(do_work)(i,j, res_nested_par_memmap) for (i,j) in list(itertools.product(range(N), range(M))))\n",
    "# print(\"[PARALLEL MEMMAP: NESTED FOR] Time elapsed: \", datetime.datetime.now() - tic)\n",
    "\n",
    "# try:\n",
    "#     shutil.rmtree(memmap_folder)\n",
    "# except:\n",
    "#     print('Could not clean-up automatically.')\n",
    "\n",
    "# get_reusable_executor().shutdown(wait=True)\n",
    "\n",
    "# def do_work(i,j):\n",
    "#     out = []\n",
    "#     temp = i+j\n",
    "#     temp = temp**2\n",
    "#     out.append(temp)\n",
    "#     # time.sleep(0.005)\n",
    "#     return out\n",
    "\n",
    "# tic = datetime.datetime.now()\n",
    "# out = Parallel(n_jobs=32, verbose=1)(delayed(do_work)(i,j) for (i,j) in list(itertools.product(range(N), range(M))))\n",
    "# res_nested_par = np.reshape(np.array(out), (N,M))\n",
    "# print(\"[PARALLEL: NESTED FOR] Time elapsed: \", datetime.datetime.now() - tic)\n",
    "\n",
    "# get_reusable_executor().shutdown(wait=True)"
   ]
  },
  {
   "cell_type": "markdown",
   "metadata": {},
   "source": [
    "### [WORK IN PROGRESS] Packaging Neatly"
   ]
  },
  {
   "cell_type": "code",
   "execution_count": 12,
   "metadata": {},
   "outputs": [],
   "source": [
    "# class PyParFor:\n",
    "#     def __init__(self, n_jobs=32, use_memmap=True, memmap_folder=None, out_shape=(None,None)):\n",
    "#         self.n_jobs = n_jobs\n",
    "#         self.use_memmap = use_memmap\n",
    "#         self.memmap_folder = memmap_folder\n",
    "#         self.out_shape = out_shape\n",
    "\n",
    "#     def __enter__(self):\n",
    "#         if self.use_memmap:\n",
    "#             if not self.memmap_folder:\n",
    "#                 self.memmap_folder = os.getcwd()+\"/memmap\"\n",
    "#             if not os.path.exists(self.memmap_folder):\n",
    "#                 os.makedirs(self.memmap_folder)\n",
    "#             print(\"Storing memmap at: \", self.memmap_folder)\n",
    "\n",
    "#     def __exit__(self, exc_type, exc_val, exc_tb):\n",
    "#         try:\n",
    "#             shutil.rmtree(self.memmap_folder)\n",
    "#         except:\n",
    "#             print('Could not clean-up automatically.')\n",
    "        \n",
    "#         get_reusable_executor().shutdown(wait=True)\n",
    "\n",
    "#     def __call__(self, func, iterable):\n",
    "#         if self.use_memmap:\n",
    "#             out_memmap = np.memmap(self.memmap_folder + \"/out_memmap\", dtype='float', mode='w+', shape=self.out_shape)\n",
    "#             Parallel(n_jobs=self.n_jobs, verbose=0)(delayed(func)(item, out_memmap) for item in iterable)\n",
    "#         else:\n",
    "#             out = Parallel(n_jobs=self.n_jobs, verbose=0)(delayed(func)(item) for item in iterable)\n",
    "#             out = np.array(out).reshape(self.out_shape)\n",
    "        \n",
    "#         if self.use_memmap:\n",
    "#             return out_memmap\n",
    "#         else:\n",
    "#             return out"
   ]
  },
  {
   "cell_type": "code",
   "execution_count": null,
   "metadata": {},
   "outputs": [],
   "source": [
    "# import os, datetime\n",
    "\n",
    "# from numpy import memmap\n",
    "\n",
    "# N, M = 1000, 100\n",
    "\n",
    "# def do_work(i, out_memmap) -> np.ndarray:\n",
    "#     for j in range(M):\n",
    "#         temp = i+j\n",
    "#         temp = temp**2\n",
    "#         temp = math.sqrt(temp)\n",
    "#         out_memmap[i,j] = temp\n",
    "\n",
    "# with PyParFor(n_jobs=32, use_memmap=True, out_shape=(N,M)) as pyparfor:\n",
    "#     tic = datetime.datetime.now()\n",
    "#     out = pyparfor(do_work, range(N))\n",
    "#     print(\"[PARALLEL: SINGLE FOR] Time elapsed: \", datetime.datetime.now() - tic)"
   ]
  },
  {
   "cell_type": "code",
   "execution_count": null,
   "metadata": {},
   "outputs": [],
   "source": []
  }
 ],
 "metadata": {
  "kernelspec": {
   "display_name": "mlenv",
   "language": "python",
   "name": "python3"
  },
  "language_info": {
   "codemirror_mode": {
    "name": "ipython",
    "version": 3
   },
   "file_extension": ".py",
   "mimetype": "text/x-python",
   "name": "python",
   "nbconvert_exporter": "python",
   "pygments_lexer": "ipython3",
   "version": "3.10.9"
  }
 },
 "nbformat": 4,
 "nbformat_minor": 2
}
